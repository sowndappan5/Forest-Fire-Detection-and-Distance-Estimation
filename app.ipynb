{
 "cells": [
  {
   "cell_type": "code",
   "execution_count": 16,
   "id": "53f1b063-a9cc-44c4-b006-c653f7bdfb71",
   "metadata": {},
   "outputs": [],
   "source": [
    "from ultralytics import YOLO\n",
    "import cv2\n",
    "\n",
    "# Load the YOLO model\n",
    "model = YOLO('fire.pt')"
   ]
  },
  {
   "cell_type": "code",
   "execution_count": 17,
   "id": "516304a4-e713-480e-b5d1-e427ce023f5f",
   "metadata": {},
   "outputs": [],
   "source": [
    "# Define the data\n",
    "data = {\n",
    "    'degree': [55],\n",
    "    'd1': [d_values[0],d_values[1],d_values[2],d_values[3],d_values[4]]\n",
    "}\n",
    "\n",
    "# Define the value for num\n",
    "num = 1\n",
    "\n",
    "# Function to determine the y-coordinate of the black line based on d1 value\n",
    "def get_black_line_y(d1_value, green_lines, frame_height):\n",
    "    if d1_value == 0:\n",
    "        return frame_height  # Black line at the bottom\n",
    "    if d1_value < green_lines[0][1]:\n",
    "        return frame_height - int((green_lines[0][0] - (frame_height - d1_value * (green_lines[0][0] - green_lines[-1][0]) / green_lines[0][1])) - frame_height)\n",
    "    for i in range(len(green_lines) - 1):\n",
    "        if green_lines[i][1] < d1_value <= green_lines[i + 1][1]:\n",
    "            return green_lines[i][0] - int((green_lines[i][0] - green_lines[i + 1][0]) * (d1_value - green_lines[i][1]) / (green_lines[i + 1][1] - green_lines[i][1]))\n",
    "    return green_lines[0][0]  # Above the highest green line\n",
    "\n",
    "# Function to determine the base line label based on black lines\n",
    "def get_base_line_label(y_bottom, black_lines, num, opposite):\n",
    "    # Ensure 'opposite' is a valid float value\n",
    "    try:\n",
    "        opposite = float(opposite)  # Ensure it's a float\n",
    "    except (ValueError, TypeError):\n",
    "        opposite = 0.0  # Default to 0.0 if not a valid number\n",
    "\n",
    "    # Sort black lines by y-coordinate\n",
    "    black_lines = sorted(black_lines, key=lambda x: x[0], reverse=True)\n",
    "\n",
    "    # Determine the range\n",
    "    for i in range(len(black_lines) - 1):\n",
    "        if black_lines[i + 1][0] < y_bottom <= black_lines[i][0]:\n",
    "            return f\"Base line {(i + 1) * num + opposite:.2f} to {(i + 2) * num + opposite:.2f}\"\n",
    "    \n",
    "    # Special cases\n",
    "    if y_bottom > black_lines[0][0]:\n",
    "        return f\"Base line 0 to {num + opposite:.2f}\"\n",
    "    if y_bottom <= black_lines[-1][0]:\n",
    "        return f\"Base line {len(black_lines) * num + opposite:.2f} to top\"\n",
    "    \n",
    "    # Default case if none of the above conditions are met\n",
    "    return f\"Base line 0 to {num + opposite:.2f}\""
   ]
  }
 ],
 "metadata": {
  "kernelspec": {
   "display_name": "py395",
   "language": "python",
   "name": "python3"
  },
  "language_info": {
   "codemirror_mode": {
    "name": "ipython",
    "version": 3
   },
   "file_extension": ".py",
   "mimetype": "text/x-python",
   "name": "python",
   "nbconvert_exporter": "python",
   "pygments_lexer": "ipython3",
   "version": "3.9.19"
  }
 },
 "nbformat": 4,
 "nbformat_minor": 5
}
